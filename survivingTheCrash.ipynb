{
 "cells": [
  {
   "cell_type": "code",
   "execution_count": 63,
   "metadata": {},
   "outputs": [],
   "source": [
    "import numpy as np"
   ]
  },
  {
   "cell_type": "code",
   "execution_count": 2,
   "metadata": {},
   "outputs": [
    {
     "data": {
      "text/html": [
       "<table style=\"border: 2px solid white;\">\n",
       "<tr>\n",
       "<td style=\"vertical-align: top; border: 0px solid white\">\n",
       "<h3 style=\"text-align: left;\">Client</h3>\n",
       "<ul style=\"text-align: left; list-style: none; margin: 0; padding: 0;\">\n",
       "  <li><b>Scheduler: </b>tcp://127.0.0.1:52802</li>\n",
       "  <li><b>Dashboard: </b><a href='http://127.0.0.1:8787/status' target='_blank'>http://127.0.0.1:8787/status</a>\n",
       "</ul>\n",
       "</td>\n",
       "<td style=\"vertical-align: top; border: 0px solid white\">\n",
       "<h3 style=\"text-align: left;\">Cluster</h3>\n",
       "<ul style=\"text-align: left; list-style:none; margin: 0; padding: 0;\">\n",
       "  <li><b>Workers: </b>2</li>\n",
       "  <li><b>Cores: </b>4</li>\n",
       "  <li><b>Memory: </b>4.00 GB</li>\n",
       "</ul>\n",
       "</td>\n",
       "</tr>\n",
       "</table>"
      ],
      "text/plain": [
       "<Client: 'tcp://127.0.0.1:52802' processes=2 threads=4, memory=4.00 GB>"
      ]
     },
     "execution_count": 2,
     "metadata": {},
     "output_type": "execute_result"
    }
   ],
   "source": [
    "import get\n",
    "import matplotlib.pyplot as plt\n",
    "import dask\n",
    "import dask.dataframe as dd\n",
    "from dask.distributed import Client, progress\n",
    "from sklearn.preprocessing import MinMaxScaler\n",
    "client = Client(n_workers=2, threads_per_worker=2, memory_limit='2GB')\n",
    "client"
   ]
  },
  {
   "cell_type": "code",
   "execution_count": 3,
   "metadata": {},
   "outputs": [],
   "source": [
    "SPY = get.daily('SPY', outputsize = 'full')"
   ]
  },
  {
   "cell_type": "code",
   "execution_count": 4,
   "metadata": {},
   "outputs": [],
   "source": [
    "SPY = SPY.sort_values('timestamp', ignore_index=True)"
   ]
  },
  {
   "cell_type": "code",
   "execution_count": 4,
   "metadata": {},
   "outputs": [
    {
     "data": {
      "text/html": [
       "<div>\n",
       "<style scoped>\n",
       "    .dataframe tbody tr th:only-of-type {\n",
       "        vertical-align: middle;\n",
       "    }\n",
       "\n",
       "    .dataframe tbody tr th {\n",
       "        vertical-align: top;\n",
       "    }\n",
       "\n",
       "    .dataframe thead th {\n",
       "        text-align: right;\n",
       "    }\n",
       "</style>\n",
       "<table border=\"1\" class=\"dataframe\">\n",
       "  <thead>\n",
       "    <tr style=\"text-align: right;\">\n",
       "      <th></th>\n",
       "      <th>timestamp</th>\n",
       "      <th>open</th>\n",
       "      <th>high</th>\n",
       "      <th>low</th>\n",
       "      <th>close</th>\n",
       "      <th>adjusted_close</th>\n",
       "      <th>volume</th>\n",
       "      <th>dividend_amount</th>\n",
       "      <th>split_coefficient</th>\n",
       "    </tr>\n",
       "  </thead>\n",
       "  <tbody>\n",
       "    <tr>\n",
       "      <th>0</th>\n",
       "      <td>2000-03-13</td>\n",
       "      <td>136.6875</td>\n",
       "      <td>140.4687</td>\n",
       "      <td>135.6875</td>\n",
       "      <td>138.5937</td>\n",
       "      <td>95.2569</td>\n",
       "      <td>10540500</td>\n",
       "      <td>0.0000</td>\n",
       "      <td>1.0</td>\n",
       "    </tr>\n",
       "    <tr>\n",
       "      <th>1</th>\n",
       "      <td>2000-03-14</td>\n",
       "      <td>139.2812</td>\n",
       "      <td>140.0937</td>\n",
       "      <td>136.1562</td>\n",
       "      <td>136.6250</td>\n",
       "      <td>93.9038</td>\n",
       "      <td>8263900</td>\n",
       "      <td>0.0000</td>\n",
       "      <td>1.0</td>\n",
       "    </tr>\n",
       "    <tr>\n",
       "      <th>2</th>\n",
       "      <td>2000-03-15</td>\n",
       "      <td>136.8750</td>\n",
       "      <td>140.4375</td>\n",
       "      <td>136.0625</td>\n",
       "      <td>139.8125</td>\n",
       "      <td>96.0946</td>\n",
       "      <td>10300800</td>\n",
       "      <td>0.0000</td>\n",
       "      <td>1.0</td>\n",
       "    </tr>\n",
       "    <tr>\n",
       "      <th>3</th>\n",
       "      <td>2000-03-16</td>\n",
       "      <td>141.6250</td>\n",
       "      <td>146.8437</td>\n",
       "      <td>140.8750</td>\n",
       "      <td>146.3437</td>\n",
       "      <td>100.5835</td>\n",
       "      <td>25601400</td>\n",
       "      <td>0.0000</td>\n",
       "      <td>1.0</td>\n",
       "    </tr>\n",
       "    <tr>\n",
       "      <th>4</th>\n",
       "      <td>2000-03-17</td>\n",
       "      <td>145.8125</td>\n",
       "      <td>148.0000</td>\n",
       "      <td>145.4375</td>\n",
       "      <td>146.9375</td>\n",
       "      <td>101.2465</td>\n",
       "      <td>10272900</td>\n",
       "      <td>0.3708</td>\n",
       "      <td>1.0</td>\n",
       "    </tr>\n",
       "    <tr>\n",
       "      <th>...</th>\n",
       "      <td>...</td>\n",
       "      <td>...</td>\n",
       "      <td>...</td>\n",
       "      <td>...</td>\n",
       "      <td>...</td>\n",
       "      <td>...</td>\n",
       "      <td>...</td>\n",
       "      <td>...</td>\n",
       "      <td>...</td>\n",
       "    </tr>\n",
       "    <tr>\n",
       "      <th>5028</th>\n",
       "      <td>2020-03-09</td>\n",
       "      <td>275.3000</td>\n",
       "      <td>284.1900</td>\n",
       "      <td>273.4500</td>\n",
       "      <td>274.2300</td>\n",
       "      <td>274.2300</td>\n",
       "      <td>305980554</td>\n",
       "      <td>0.0000</td>\n",
       "      <td>1.0</td>\n",
       "    </tr>\n",
       "    <tr>\n",
       "      <th>5029</th>\n",
       "      <td>2020-03-10</td>\n",
       "      <td>284.6400</td>\n",
       "      <td>288.5200</td>\n",
       "      <td>273.5000</td>\n",
       "      <td>288.4200</td>\n",
       "      <td>288.4200</td>\n",
       "      <td>274894230</td>\n",
       "      <td>0.0000</td>\n",
       "      <td>1.0</td>\n",
       "    </tr>\n",
       "    <tr>\n",
       "      <th>5030</th>\n",
       "      <td>2020-03-11</td>\n",
       "      <td>280.7000</td>\n",
       "      <td>281.9400</td>\n",
       "      <td>270.8800</td>\n",
       "      <td>274.3600</td>\n",
       "      <td>274.3600</td>\n",
       "      <td>254604444</td>\n",
       "      <td>0.0000</td>\n",
       "      <td>1.0</td>\n",
       "    </tr>\n",
       "    <tr>\n",
       "      <th>5031</th>\n",
       "      <td>2020-03-12</td>\n",
       "      <td>256.0000</td>\n",
       "      <td>266.6600</td>\n",
       "      <td>247.6800</td>\n",
       "      <td>248.1100</td>\n",
       "      <td>248.1100</td>\n",
       "      <td>389612072</td>\n",
       "      <td>0.0000</td>\n",
       "      <td>1.0</td>\n",
       "    </tr>\n",
       "    <tr>\n",
       "      <th>5032</th>\n",
       "      <td>2020-03-13</td>\n",
       "      <td>263.0900</td>\n",
       "      <td>271.4754</td>\n",
       "      <td>248.5237</td>\n",
       "      <td>269.3200</td>\n",
       "      <td>269.3200</td>\n",
       "      <td>326142197</td>\n",
       "      <td>0.0000</td>\n",
       "      <td>1.0</td>\n",
       "    </tr>\n",
       "  </tbody>\n",
       "</table>\n",
       "<p>5033 rows × 9 columns</p>\n",
       "</div>"
      ],
      "text/plain": [
       "       timestamp      open      high       low     close  adjusted_close  \\\n",
       "0     2000-03-13  136.6875  140.4687  135.6875  138.5937         95.2569   \n",
       "1     2000-03-14  139.2812  140.0937  136.1562  136.6250         93.9038   \n",
       "2     2000-03-15  136.8750  140.4375  136.0625  139.8125         96.0946   \n",
       "3     2000-03-16  141.6250  146.8437  140.8750  146.3437        100.5835   \n",
       "4     2000-03-17  145.8125  148.0000  145.4375  146.9375        101.2465   \n",
       "...          ...       ...       ...       ...       ...             ...   \n",
       "5028  2020-03-09  275.3000  284.1900  273.4500  274.2300        274.2300   \n",
       "5029  2020-03-10  284.6400  288.5200  273.5000  288.4200        288.4200   \n",
       "5030  2020-03-11  280.7000  281.9400  270.8800  274.3600        274.3600   \n",
       "5031  2020-03-12  256.0000  266.6600  247.6800  248.1100        248.1100   \n",
       "5032  2020-03-13  263.0900  271.4754  248.5237  269.3200        269.3200   \n",
       "\n",
       "         volume  dividend_amount  split_coefficient  \n",
       "0      10540500           0.0000                1.0  \n",
       "1       8263900           0.0000                1.0  \n",
       "2      10300800           0.0000                1.0  \n",
       "3      25601400           0.0000                1.0  \n",
       "4      10272900           0.3708                1.0  \n",
       "...         ...              ...                ...  \n",
       "5028  305980554           0.0000                1.0  \n",
       "5029  274894230           0.0000                1.0  \n",
       "5030  254604444           0.0000                1.0  \n",
       "5031  389612072           0.0000                1.0  \n",
       "5032  326142197           0.0000                1.0  \n",
       "\n",
       "[5033 rows x 9 columns]"
      ]
     },
     "execution_count": 4,
     "metadata": {},
     "output_type": "execute_result"
    }
   ],
   "source": [
    "SPY"
   ]
  },
  {
   "cell_type": "code",
   "execution_count": 5,
   "metadata": {},
   "outputs": [],
   "source": [
    "SPY = dd.from_pandas(SPY, npartitions = len(SPY.columns))"
   ]
  },
  {
   "cell_type": "code",
   "execution_count": null,
   "metadata": {},
   "outputs": [],
   "source": [
    "%matplotlib qt\n",
    "plt.figure()\n",
    "plt.scatter(SPY.timestamp.compute(), SPY.adjusted_close.compute())\n",
    "#plt.plot(TBBK['volume'])\n",
    "#plt.plot(SPY[\"high\"])\n",
    "#plt.plot(SPY[\"low\"])\n",
    "#plt.plot(SPY[\"close\"])\n",
    "plt.title('SPY history')\n",
    "plt.ylabel('Price (USD)')\n",
    "plt.xlabel('Days')\n",
    "#plt.legend(['Open','High','Low','Close'], loc='upper left')\n",
    "plt.show()"
   ]
  },
  {
   "cell_type": "markdown",
   "metadata": {},
   "source": [
    "Computer keeps crashing, but using a little research I found that the first crash is 2008.\n",
    "Lets look at this a bit closer"
   ]
  },
  {
   "cell_type": "code",
   "execution_count": 6,
   "metadata": {},
   "outputs": [
    {
     "data": {
      "text/plain": [
       "str"
      ]
     },
     "execution_count": 6,
     "metadata": {},
     "output_type": "execute_result"
    }
   ],
   "source": [
    "type(SPY.timestamp.head()[0])#figure out formatting"
   ]
  },
  {
   "cell_type": "code",
   "execution_count": 7,
   "metadata": {},
   "outputs": [],
   "source": [
    "#thats convenient\n",
    "SPY = SPY[SPY.timestamp >= '2008-10-01']\n",
    "SPY =  SPY[SPY.timestamp <= '2008-12-01']"
   ]
  },
  {
   "cell_type": "code",
   "execution_count": 9,
   "metadata": {},
   "outputs": [
    {
     "data": {
      "text/plain": [
       "Text(0.5, 0, 'Days')"
      ]
     },
     "execution_count": 9,
     "metadata": {},
     "output_type": "execute_result"
    },
    {
     "data": {
      "image/png": "[encoded data removed]",
      "text/plain": [
       "<Figure size 432x288 with 1 Axes>"
      ]
     },
     "metadata": {
      "needs_background": "light"
     },
     "output_type": "display_data"
    }
   ],
   "source": [
    "%matplotlib inline\n",
    "plt.figure()\n",
    "plt.plot(SPY.adjusted_close.compute())\n",
    "plt.title('SPY history between 10/01/08 and 12/1/08')\n",
    "plt.ylabel('Closing price')\n",
    "plt.xlabel('Days')"
   ]
  },
  {
   "cell_type": "markdown",
   "metadata": {},
   "source": [
    "That looks pretty clean, and should work pretty well when trained. Time to preprocessing the data"
   ]
  },
  {
   "cell_type": "code",
   "execution_count": 31,
   "metadata": {},
   "outputs": [
    {
     "data": {
      "text/plain": [
       "Index(['timestamp', 'open', 'high', 'low', 'close', 'adjusted_close', 'volume',\n",
       "       'dividend_amount', 'split_coefficient'],\n",
       "      dtype='object')"
      ]
     },
     "execution_count": 31,
     "metadata": {},
     "output_type": "execute_result"
    }
   ],
   "source": [
    "SPY.columns"
   ]
  },
  {
   "cell_type": "code",
   "execution_count": 52,
   "metadata": {},
   "outputs": [],
   "source": [
    "#Select the data we wanrt\n",
    "pre_selected_spy = SPY[['open', 'high','low', 'volume', 'adjusted_close']]\n",
    "selected_spy = pre_selected_spy.to_dask_array()"
   ]
  },
  {
   "cell_type": "code",
   "execution_count": 53,
   "metadata": {},
   "outputs": [],
   "source": [
    "sc = MinMaxScaler(feature_range=(0, 1))\n",
    "scaled_SPY = sc.fit_transform(selected_spy.compute())"
   ]
  },
  {
   "cell_type": "code",
   "execution_count": 55,
   "metadata": {},
   "outputs": [
    {
     "data": {
      "text/plain": [
       "array([[1.        , 1.        , 1.        , 0.28346138, 1.        ],\n",
       "       [0.99196384, 0.95585359, 0.92703863, 0.32662242, 0.8950349 ],\n",
       "       [0.91411351, 0.96535345, 0.89219894, 0.45525668, 0.85349125],\n",
       "       [0.79608237, 0.74657726, 0.66397374, 0.65316226, 0.7224661 ],\n",
       "       [0.73505776, 0.73847443, 0.63898006, 0.5593618 , 0.60865322],\n",
       "       [0.61727775, 0.59457949, 0.56728099, 0.8061303 , 0.54350931],\n",
       "       [0.60798594, 0.5509919 , 0.40166625, 0.54711398, 0.37930191],\n",
       "       [0.28402813, 0.36434758, 0.23327443, 1.        , 0.32768059],\n",
       "       [0.46258162, 0.57138866, 0.39403938, 0.44646615, 0.63249823],\n",
       "       [0.7345555 , 0.68818106, 0.57485483, 0.56783199, 0.5988203 ],\n",
       "       [0.55273732, 0.47219894, 0.38803332, 0.48474473, 0.36160326],\n",
       "       [0.39779006, 0.38753842, 0.30800303, 0.78382239, 0.45132639],\n",
       "       [0.41536916, 0.49427214, 0.43701086, 0.47501085, 0.43756215],\n",
       "       [0.49974887, 0.50852193, 0.49859884, 0.26788668, 0.57546787],\n",
       "       [0.54043194, 0.49566918, 0.52713961, 0.3147415 , 0.50467018],\n",
       "       [0.4457559 , 0.41799385, 0.33299672, 0.52688272, 0.37020629],\n",
       "       [0.37267705, 0.32271584, 0.28957334, 0.68521365, 0.39700055],\n",
       "       [0.216223  , 0.25202571, 0.24387781, 0.56690337, 0.28343242],\n",
       "       [0.26418885, 0.24056999, 0.23630396, 0.3689202 , 0.20427642],\n",
       "       [0.29859367, 0.37272981, 0.25725827, 0.69179597, 0.45255628],\n",
       "       [0.46007032, 0.45459626, 0.44837162, 0.54777193, 0.43166054],\n",
       "       [0.51054746, 0.43699357, 0.46856854, 0.39214673, 0.50909406],\n",
       "       [0.49296836, 0.49371333, 0.50845746, 0.38815006, 0.52458077],\n",
       "       [0.53691612, 0.46912545, 0.5455693 , 0.11381713, 0.53269433],\n",
       "       [0.59291813, 0.55769768, 0.56486241, 0.30212745, 0.61479958],\n",
       "       [0.59643395, 0.55354568, 0.52158546, 0.35690913, 0.50663738],\n",
       "       [0.47739829, 0.40625873, 0.39686948, 0.4763425 , 0.37659739],\n",
       "       [0.40683074, 0.36602403, 0.40797778, 0.3468286 , 0.45132639],\n",
       "       [0.49623305, 0.4087734 , 0.41858117, 0.23802625, 0.4178963 ],\n",
       "       [0.38448016, 0.31398994, 0.36127241, 0.39743493, 0.34955839],\n",
       "       [0.32094425, 0.25849679, 0.2721535 , 0.44490558, 0.25221117],\n",
       "       [0.26820693, 0.30259849, 0.19565766, 0.84316072, 0.38126911],\n",
       "       [0.3505776 , 0.31181894, 0.30749811, 0.55834134, 0.27113971],\n",
       "       [0.27448518, 0.21402626, 0.27316334, 0.39338406, 0.24606791],\n",
       "       [0.24359618, 0.17658564, 0.21635951, 0.53715259, 0.28416973],\n",
       "       [0.26268207, 0.16680637, 0.16611967, 0.58372143, 0.15118048],\n",
       "       [0.11752888, 0.04498463, 0.01792477, 0.92358953, 0.        ],\n",
       "       [0.        , 0.        , 0.        , 0.79686148, 0.09906658],\n",
       "       [0.16248117, 0.17001956, 0.15201717, 0.53284442, 0.23918425],\n",
       "       [0.29758915, 0.18468846, 0.2393335 , 0.44497395, 0.25393364],\n",
       "       [0.22225013, 0.23162895, 0.24993688, 0.33315602, 0.33333437],\n",
       "       [0.33098945, 0.25789327, 0.35698056, 0.        , 0.35889874],\n",
       "       [0.30286288, 0.18580609, 0.18985105, 0.33261207, 0.16273277]])"
      ]
     },
     "execution_count": 55,
     "metadata": {},
     "output_type": "execute_result"
    }
   ],
   "source": [
    "scaled_SPY"
   ]
  },
  {
   "cell_type": "code",
   "execution_count": 66,
   "metadata": {},
   "outputs": [],
   "source": [
    "#timestep of 5 days\n",
    "x_train = list() \n",
    "y_train = list()\n",
    "for i in range(5, scaled_SPY.shape[0]-1):\n",
    "    x_train.append(scaled_SPY[i-5:i, ])\n",
    "    y_train.append(scaled_SPY[i+1, 4])\n",
    "x_t = np.array(x_train)\n",
    "y_t = np.array(y_train)"
   ]
  },
  {
   "cell_type": "code",
   "execution_count": null,
   "metadata": {},
   "outputs": [],
   "source": []
  },
  {
   "cell_type": "code",
   "execution_count": null,
   "metadata": {},
   "outputs": [],
   "source": []
  }
 ],
 "metadata": {
  "kernelspec": {
   "display_name": "Python 3",
   "language": "python",
   "name": "python3"
  },
  "language_info": {
   "codemirror_mode": {
    "name": "ipython",
    "version": 3
   },
   "file_extension": ".py",
   "mimetype": "text/x-python",
   "name": "python",
   "nbconvert_exporter": "python",
   "pygments_lexer": "ipython3",
   "version": "3.7.6"
  }
 },
 "nbformat": 4,
 "nbformat_minor": 4
}
