{
 "cells": [
  {
   "cell_type": "code",
   "execution_count": 1,
   "metadata": {},
   "outputs": [
    {
     "data": {
      "text/html": [
       "<table style=\"border: 2px solid white;\">\n",
       "<tr>\n",
       "<td style=\"vertical-align: top; border: 0px solid white\">\n",
       "<h3 style=\"text-align: left;\">Client</h3>\n",
       "<ul style=\"text-align: left; list-style: none; margin: 0; padding: 0;\">\n",
       "  <li><b>Scheduler: </b>tcp://127.0.0.1:50454</li>\n",
       "  <li><b>Dashboard: </b><a href='http://127.0.0.1:8787/status' target='_blank'>http://127.0.0.1:8787/status</a>\n",
       "</ul>\n",
       "</td>\n",
       "<td style=\"vertical-align: top; border: 0px solid white\">\n",
       "<h3 style=\"text-align: left;\">Cluster</h3>\n",
       "<ul style=\"text-align: left; list-style:none; margin: 0; padding: 0;\">\n",
       "  <li><b>Workers: </b>2</li>\n",
       "  <li><b>Cores: </b>4</li>\n",
       "  <li><b>Memory: </b>4.00 GB</li>\n",
       "</ul>\n",
       "</td>\n",
       "</tr>\n",
       "</table>"
      ],
      "text/plain": [
       "<Client: 'tcp://127.0.0.1:50454' processes=2 threads=4, memory=4.00 GB>"
      ]
     },
     "execution_count": 1,
     "metadata": {},
     "output_type": "execute_result"
    }
   ],
   "source": [
    "import get\n",
    "import matplotlib.pyplot as plt\n",
    "import dask\n",
    "import dask.dataframe as dd\n",
    "from dask.distributed import Client, progress\n",
    "client = Client(n_workers=2, threads_per_worker=2, memory_limit='2GB')\n",
    "client"
   ]
  },
  {
   "cell_type": "code",
   "execution_count": 2,
   "metadata": {},
   "outputs": [],
   "source": [
    "SPY = get.daily('SPY', outputsize = 'full')"
   ]
  },
  {
   "cell_type": "code",
   "execution_count": 3,
   "metadata": {},
   "outputs": [],
   "source": [
    "SPY = SPY.sort_values('timestamp', ignore_index=True)"
   ]
  },
  {
   "cell_type": "code",
   "execution_count": 4,
   "metadata": {},
   "outputs": [
    {
     "data": {
      "text/html": [
       "<div>\n",
       "<style scoped>\n",
       "    .dataframe tbody tr th:only-of-type {\n",
       "        vertical-align: middle;\n",
       "    }\n",
       "\n",
       "    .dataframe tbody tr th {\n",
       "        vertical-align: top;\n",
       "    }\n",
       "\n",
       "    .dataframe thead th {\n",
       "        text-align: right;\n",
       "    }\n",
       "</style>\n",
       "<table border=\"1\" class=\"dataframe\">\n",
       "  <thead>\n",
       "    <tr style=\"text-align: right;\">\n",
       "      <th></th>\n",
       "      <th>timestamp</th>\n",
       "      <th>open</th>\n",
       "      <th>high</th>\n",
       "      <th>low</th>\n",
       "      <th>close</th>\n",
       "      <th>adjusted_close</th>\n",
       "      <th>volume</th>\n",
       "      <th>dividend_amount</th>\n",
       "      <th>split_coefficient</th>\n",
       "    </tr>\n",
       "  </thead>\n",
       "  <tbody>\n",
       "    <tr>\n",
       "      <th>0</th>\n",
       "      <td>2000-03-09</td>\n",
       "      <td>137.2500</td>\n",
       "      <td>140.8750</td>\n",
       "      <td>136.1250</td>\n",
       "      <td>140.8750</td>\n",
       "      <td>96.8248</td>\n",
       "      <td>5500900</td>\n",
       "      <td>0.0</td>\n",
       "      <td>1.0</td>\n",
       "    </tr>\n",
       "    <tr>\n",
       "      <th>1</th>\n",
       "      <td>2000-03-10</td>\n",
       "      <td>140.1875</td>\n",
       "      <td>142.0000</td>\n",
       "      <td>139.5312</td>\n",
       "      <td>140.1250</td>\n",
       "      <td>96.3093</td>\n",
       "      <td>7924600</td>\n",
       "      <td>0.0</td>\n",
       "      <td>1.0</td>\n",
       "    </tr>\n",
       "    <tr>\n",
       "      <th>2</th>\n",
       "      <td>2000-03-13</td>\n",
       "      <td>136.6875</td>\n",
       "      <td>140.4687</td>\n",
       "      <td>135.6875</td>\n",
       "      <td>138.5937</td>\n",
       "      <td>95.2569</td>\n",
       "      <td>10540500</td>\n",
       "      <td>0.0</td>\n",
       "      <td>1.0</td>\n",
       "    </tr>\n",
       "    <tr>\n",
       "      <th>3</th>\n",
       "      <td>2000-03-14</td>\n",
       "      <td>139.2812</td>\n",
       "      <td>140.0937</td>\n",
       "      <td>136.1562</td>\n",
       "      <td>136.6250</td>\n",
       "      <td>93.9038</td>\n",
       "      <td>8263900</td>\n",
       "      <td>0.0</td>\n",
       "      <td>1.0</td>\n",
       "    </tr>\n",
       "    <tr>\n",
       "      <th>4</th>\n",
       "      <td>2000-03-15</td>\n",
       "      <td>136.8750</td>\n",
       "      <td>140.4375</td>\n",
       "      <td>136.0625</td>\n",
       "      <td>139.8125</td>\n",
       "      <td>96.0946</td>\n",
       "      <td>10300800</td>\n",
       "      <td>0.0</td>\n",
       "      <td>1.0</td>\n",
       "    </tr>\n",
       "    <tr>\n",
       "      <th>...</th>\n",
       "      <td>...</td>\n",
       "      <td>...</td>\n",
       "      <td>...</td>\n",
       "      <td>...</td>\n",
       "      <td>...</td>\n",
       "      <td>...</td>\n",
       "      <td>...</td>\n",
       "      <td>...</td>\n",
       "      <td>...</td>\n",
       "    </tr>\n",
       "    <tr>\n",
       "      <th>5028</th>\n",
       "      <td>2020-03-05</td>\n",
       "      <td>304.9800</td>\n",
       "      <td>308.4700</td>\n",
       "      <td>300.0100</td>\n",
       "      <td>302.4600</td>\n",
       "      <td>302.4600</td>\n",
       "      <td>185533970</td>\n",
       "      <td>0.0</td>\n",
       "      <td>1.0</td>\n",
       "    </tr>\n",
       "    <tr>\n",
       "      <th>5029</th>\n",
       "      <td>2020-03-06</td>\n",
       "      <td>293.1500</td>\n",
       "      <td>298.7800</td>\n",
       "      <td>290.2300</td>\n",
       "      <td>297.4600</td>\n",
       "      <td>297.4600</td>\n",
       "      <td>228315219</td>\n",
       "      <td>0.0</td>\n",
       "      <td>1.0</td>\n",
       "    </tr>\n",
       "    <tr>\n",
       "      <th>5030</th>\n",
       "      <td>2020-03-09</td>\n",
       "      <td>275.3000</td>\n",
       "      <td>284.1900</td>\n",
       "      <td>273.4500</td>\n",
       "      <td>274.2300</td>\n",
       "      <td>274.2300</td>\n",
       "      <td>305980554</td>\n",
       "      <td>0.0</td>\n",
       "      <td>1.0</td>\n",
       "    </tr>\n",
       "    <tr>\n",
       "      <th>5031</th>\n",
       "      <td>2020-03-10</td>\n",
       "      <td>284.6400</td>\n",
       "      <td>288.5200</td>\n",
       "      <td>273.5000</td>\n",
       "      <td>288.4200</td>\n",
       "      <td>288.4200</td>\n",
       "      <td>261412280</td>\n",
       "      <td>0.0</td>\n",
       "      <td>1.0</td>\n",
       "    </tr>\n",
       "    <tr>\n",
       "      <th>5032</th>\n",
       "      <td>2020-03-11</td>\n",
       "      <td>280.7000</td>\n",
       "      <td>281.9400</td>\n",
       "      <td>270.8800</td>\n",
       "      <td>274.2500</td>\n",
       "      <td>274.2500</td>\n",
       "      <td>255437531</td>\n",
       "      <td>0.0</td>\n",
       "      <td>1.0</td>\n",
       "    </tr>\n",
       "  </tbody>\n",
       "</table>\n",
       "<p>5033 rows × 9 columns</p>\n",
       "</div>"
      ],
      "text/plain": [
       "       timestamp      open      high       low     close  adjusted_close  \\\n",
       "0     2000-03-09  137.2500  140.8750  136.1250  140.8750         96.8248   \n",
       "1     2000-03-10  140.1875  142.0000  139.5312  140.1250         96.3093   \n",
       "2     2000-03-13  136.6875  140.4687  135.6875  138.5937         95.2569   \n",
       "3     2000-03-14  139.2812  140.0937  136.1562  136.6250         93.9038   \n",
       "4     2000-03-15  136.8750  140.4375  136.0625  139.8125         96.0946   \n",
       "...          ...       ...       ...       ...       ...             ...   \n",
       "5028  2020-03-05  304.9800  308.4700  300.0100  302.4600        302.4600   \n",
       "5029  2020-03-06  293.1500  298.7800  290.2300  297.4600        297.4600   \n",
       "5030  2020-03-09  275.3000  284.1900  273.4500  274.2300        274.2300   \n",
       "5031  2020-03-10  284.6400  288.5200  273.5000  288.4200        288.4200   \n",
       "5032  2020-03-11  280.7000  281.9400  270.8800  274.2500        274.2500   \n",
       "\n",
       "         volume  dividend_amount  split_coefficient  \n",
       "0       5500900              0.0                1.0  \n",
       "1       7924600              0.0                1.0  \n",
       "2      10540500              0.0                1.0  \n",
       "3       8263900              0.0                1.0  \n",
       "4      10300800              0.0                1.0  \n",
       "...         ...              ...                ...  \n",
       "5028  185533970              0.0                1.0  \n",
       "5029  228315219              0.0                1.0  \n",
       "5030  305980554              0.0                1.0  \n",
       "5031  261412280              0.0                1.0  \n",
       "5032  255437531              0.0                1.0  \n",
       "\n",
       "[5033 rows x 9 columns]"
      ]
     },
     "execution_count": 4,
     "metadata": {},
     "output_type": "execute_result"
    }
   ],
   "source": [
    "SPY"
   ]
  },
  {
   "cell_type": "code",
   "execution_count": 5,
   "metadata": {},
   "outputs": [],
   "source": [
    "SPY = dd.from_pandas(SPY, npartitions = len(SPY.columns))"
   ]
  },
  {
   "cell_type": "code",
   "execution_count": null,
   "metadata": {},
   "outputs": [],
   "source": [
    "%matplotlib qt\n",
    "plt.figure()\n",
    "plt.scatter(SPY.timestamp.compute(), SPY.adjusted_close.compute())\n",
    "#plt.plot(TBBK['volume'])\n",
    "#plt.plot(SPY[\"high\"])\n",
    "#plt.plot(SPY[\"low\"])\n",
    "#plt.plot(SPY[\"close\"])\n",
    "plt.title('SPY history')\n",
    "plt.ylabel('Price (USD)')\n",
    "plt.xlabel('Days')\n",
    "#plt.legend(['Open','High','Low','Close'], loc='upper left')\n",
    "plt.show()"
   ]
  },
  {
   "cell_type": "markdown",
   "metadata": {},
   "source": [
    "Computer keeps crashing, but using a little research I found that the first crash is 2008.\n",
    "Lets look at this a bit closer"
   ]
  },
  {
   "cell_type": "code",
   "execution_count": 6,
   "metadata": {},
   "outputs": [
    {
     "data": {
      "text/plain": [
       "str"
      ]
     },
     "execution_count": 6,
     "metadata": {},
     "output_type": "execute_result"
    }
   ],
   "source": [
    "type(SPY.timestamp.head()[0])#figure out formatting"
   ]
  },
  {
   "cell_type": "code",
   "execution_count": 52,
   "metadata": {},
   "outputs": [],
   "source": [
    "#thats convenient\n",
    "start_date = SPY[SPY.timestamp == '2008-10-01'].compute().index.values.astype(int).item()"
   ]
  },
  {
   "cell_type": "code",
   "execution_count": 53,
   "metadata": {},
   "outputs": [],
   "source": [
    "end_date= SPY[SPY.timestamp == '2008-12-01'].compute().index.values.astype(int).item()"
   ]
  },
  {
   "cell_type": "code",
   "execution_count": 84,
   "metadata": {},
   "outputs": [],
   "source": [
    "#kinda hacking this, if you know an easier way, please make a pull request\n",
    "O_EIGHT = SPY.index.apply(lambda x: x[x.index.isin(range(start_date, end_date))], axis = 1, meta = SPY.dtypes)"
   ]
  },
  {
   "cell_type": "code",
   "execution_count": null,
   "metadata": {},
   "outputs": [],
   "source": []
  }
 ],
 "metadata": {
  "kernelspec": {
   "display_name": "Python 3",
   "language": "python",
   "name": "python3"
  },
  "language_info": {
   "codemirror_mode": {
    "name": "ipython",
    "version": 3
   },
   "file_extension": ".py",
   "mimetype": "text/x-python",
   "name": "python",
   "nbconvert_exporter": "python",
   "pygments_lexer": "ipython3",
   "version": "3.7.6"
  }
 },
 "nbformat": 4,
 "nbformat_minor": 4
}
